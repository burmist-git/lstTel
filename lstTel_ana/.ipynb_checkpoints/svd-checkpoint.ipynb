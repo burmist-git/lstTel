{
 "cells": [
  {
   "cell_type": "code",
   "execution_count": 2,
   "id": "18a89e53",
   "metadata": {},
   "outputs": [],
   "source": [
    "from scipy.io import loadmat\n",
    "import numpy as np\n",
    "import pickle as pkl\n",
    "import pandas as pd\n",
    "import time\n",
    "import subprocess\n",
    "import sys\n",
    "import matplotlib.pyplot as plt\n",
    "%matplotlib inline"
   ]
  },
  {
   "cell_type": "code",
   "execution_count": 3,
   "id": "fcc77268",
   "metadata": {},
   "outputs": [],
   "source": [
    "df = pd.read_csv('data_non_normalized_887ch.csv', sep=' ', header=None)\n",
    "arr=df.values"
   ]
  },
  {
   "cell_type": "code",
   "execution_count": 4,
   "id": "9d5424eb",
   "metadata": {},
   "outputs": [
    {
     "data": {
      "text/plain": [
       "array([[9, 1, 5, ..., 0, 0, 0],\n",
       "       [2, 0, 0, ..., 0, 0, 0],\n",
       "       [0, 0, 0, ..., 0, 0, 0],\n",
       "       ...,\n",
       "       [0, 0, 0, ..., 0, 0, 0],\n",
       "       [0, 0, 0, ..., 0, 0, 0],\n",
       "       [0, 0, 0, ..., 0, 0, 0]])"
      ]
     },
     "execution_count": 4,
     "metadata": {},
     "output_type": "execute_result"
    }
   ],
   "source": [
    "arr"
   ]
  },
  {
   "cell_type": "code",
   "execution_count": 5,
   "id": "ce0e9bc9",
   "metadata": {},
   "outputs": [],
   "source": [
    "U, S, Vh = np.linalg.svd(arr, full_matrices=True)"
   ]
  },
  {
   "cell_type": "code",
   "execution_count": 6,
   "id": "fea83fc6",
   "metadata": {},
   "outputs": [
    {
     "name": "stdout",
     "output_type": "stream",
     "text": [
      "(21197, 21197)\n",
      "(887,)\n",
      "(887, 887)\n"
     ]
    }
   ],
   "source": [
    "print(U.shape)\n",
    "print(S.shape)\n",
    "print(Vh.shape)"
   ]
  },
  {
   "cell_type": "code",
   "execution_count": 7,
   "id": "d0880b33",
   "metadata": {},
   "outputs": [],
   "source": [
    "#df_U=pd.DataFrame(U)\n",
    "#df_U.to_csv('U.cvs',sep=' ',header=False,index=False)\n",
    "#\n",
    "df_S=pd.DataFrame(S)\n",
    "df_S.to_csv('S.cvs',sep=' ',header=False,index=False)\n",
    "#\n",
    "df_Vh=pd.DataFrame(Vh)\n",
    "df_Vh.to_csv('Vh.cvs',sep=' ',header=False,index=False)"
   ]
  },
  {
   "cell_type": "code",
   "execution_count": null,
   "id": "9e6edf84",
   "metadata": {},
   "outputs": [],
   "source": []
  }
 ],
 "metadata": {
  "kernelspec": {
   "display_name": "Python 3 (ipykernel)",
   "language": "python",
   "name": "python3"
  },
  "language_info": {
   "codemirror_mode": {
    "name": "ipython",
    "version": 3
   },
   "file_extension": ".py",
   "mimetype": "text/x-python",
   "name": "python",
   "nbconvert_exporter": "python",
   "pygments_lexer": "ipython3",
   "version": "3.11.3"
  }
 },
 "nbformat": 4,
 "nbformat_minor": 5
}
