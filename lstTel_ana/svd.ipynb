{
 "cells": [
  {
   "cell_type": "code",
   "execution_count": 1,
   "id": "18a89e53",
   "metadata": {},
   "outputs": [
    {
     "name": "stderr",
     "output_type": "stream",
     "text": [
      "/usr/lib/python3/dist-packages/scipy/__init__.py:146: UserWarning: A NumPy version >=1.17.3 and <1.25.0 is required for this version of SciPy (detected version 1.26.4\n",
      "  warnings.warn(f\"A NumPy version >={np_minversion} and <{np_maxversion}\"\n"
     ]
    }
   ],
   "source": [
    "from scipy.io import loadmat\n",
    "import numpy as np\n",
    "import pickle as pkl\n",
    "import pandas as pd\n",
    "import time\n",
    "import subprocess\n",
    "import sys\n",
    "import matplotlib.pyplot as plt\n",
    "%matplotlib inline"
   ]
  },
  {
   "cell_type": "code",
   "execution_count": 2,
   "id": "fcc77268",
   "metadata": {},
   "outputs": [],
   "source": [
    "df = pd.read_csv('./photon_info_1219ev.csv')\n",
    "#arr=df.values"
   ]
  },
  {
   "cell_type": "code",
   "execution_count": 3,
   "id": "9d5424eb",
   "metadata": {},
   "outputs": [],
   "source": [
    "arr=df[['MomX','MomY','MomZ']].values"
   ]
  },
  {
   "cell_type": "code",
   "execution_count": 4,
   "id": "ce0e9bc9",
   "metadata": {},
   "outputs": [],
   "source": [
    "U, S, Vh = np.linalg.svd(arr, full_matrices=True)"
   ]
  },
  {
   "cell_type": "code",
   "execution_count": 5,
   "id": "fea83fc6",
   "metadata": {},
   "outputs": [
    {
     "name": "stdout",
     "output_type": "stream",
     "text": [
      "(5153, 5153)\n",
      "(3,)\n",
      "(3, 3)\n"
     ]
    }
   ],
   "source": [
    "print(U.shape)\n",
    "print(S.shape)\n",
    "print(Vh.shape)"
   ]
  },
  {
   "cell_type": "code",
   "execution_count": 6,
   "id": "d0880b33",
   "metadata": {},
   "outputs": [],
   "source": [
    "#df_U=pd.DataFrame(U)\n",
    "#df_U.to_csv('U.cvs',sep=' ',header=False,index=False)\n",
    "#\n",
    "df_S=pd.DataFrame(S)\n",
    "df_S.to_csv('S.cvs',sep=' ',header=False,index=False)\n",
    "#\n",
    "df_Vh=pd.DataFrame(Vh)\n",
    "df_Vh.to_csv('Vh.cvs',sep=' ',header=False,index=False)"
   ]
  },
  {
   "cell_type": "code",
   "execution_count": 7,
   "id": "9e6edf84",
   "metadata": {},
   "outputs": [
    {
     "data": {
      "text/plain": [
       "1.0"
      ]
     },
     "execution_count": 7,
     "metadata": {},
     "output_type": "execute_result"
    }
   ],
   "source": [
    "np.sum(Vh[0]*Vh[0])"
   ]
  },
  {
   "cell_type": "code",
   "execution_count": 8,
   "id": "066da9bc-828c-48e7-b0c2-2aa8d178ed30",
   "metadata": {},
   "outputs": [
    {
     "data": {
      "text/plain": [
       "2.9640046014779617"
      ]
     },
     "execution_count": 8,
     "metadata": {},
     "output_type": "execute_result"
    }
   ],
   "source": [
    "np.arctan(np.sqrt(Vh[0][0]*Vh[0][0] + Vh[0][1]*Vh[0][1])/np.sqrt(Vh[0][2]*Vh[0][2]))*180.0/np.pi"
   ]
  },
  {
   "cell_type": "code",
   "execution_count": 9,
   "id": "9d70d466-301f-4ee8-aa42-233a074cd226",
   "metadata": {},
   "outputs": [
    {
     "data": {
      "text/html": [
       "<div>\n",
       "<style scoped>\n",
       "    .dataframe tbody tr th:only-of-type {\n",
       "        vertical-align: middle;\n",
       "    }\n",
       "\n",
       "    .dataframe tbody tr th {\n",
       "        vertical-align: top;\n",
       "    }\n",
       "\n",
       "    .dataframe thead th {\n",
       "        text-align: right;\n",
       "    }\n",
       "</style>\n",
       "<table border=\"1\" class=\"dataframe\">\n",
       "  <thead>\n",
       "    <tr style=\"text-align: right;\">\n",
       "      <th></th>\n",
       "      <th>primMomX</th>\n",
       "      <th>primMomY</th>\n",
       "      <th>primMomZ</th>\n",
       "      <th>primPosX</th>\n",
       "      <th>primPosY</th>\n",
       "      <th>primPosZ</th>\n",
       "      <th>trk_mir_impact_X</th>\n",
       "      <th>trk_mir_impact_Y</th>\n",
       "      <th>trk_mir_impact_Z</th>\n",
       "      <th>MomX</th>\n",
       "      <th>MomY</th>\n",
       "      <th>MomZ</th>\n",
       "    </tr>\n",
       "  </thead>\n",
       "  <tbody>\n",
       "    <tr>\n",
       "      <th>0</th>\n",
       "      <td>-670.623</td>\n",
       "      <td>-634.306</td>\n",
       "      <td>-26927</td>\n",
       "      <td>40.6711</td>\n",
       "      <td>21.0853</td>\n",
       "      <td>730</td>\n",
       "      <td>3.81636</td>\n",
       "      <td>-13.7736</td>\n",
       "      <td>-749.8</td>\n",
       "      <td>-6.754690e-08</td>\n",
       "      <td>-1.012940e-08</td>\n",
       "      <td>-0.000003</td>\n",
       "    </tr>\n",
       "    <tr>\n",
       "      <th>1</th>\n",
       "      <td>-670.623</td>\n",
       "      <td>-634.306</td>\n",
       "      <td>-26927</td>\n",
       "      <td>40.6711</td>\n",
       "      <td>21.0853</td>\n",
       "      <td>730</td>\n",
       "      <td>3.81636</td>\n",
       "      <td>-13.7736</td>\n",
       "      <td>-749.8</td>\n",
       "      <td>-1.077270e-07</td>\n",
       "      <td>-7.250210e-08</td>\n",
       "      <td>-0.000002</td>\n",
       "    </tr>\n",
       "    <tr>\n",
       "      <th>2</th>\n",
       "      <td>-670.623</td>\n",
       "      <td>-634.306</td>\n",
       "      <td>-26927</td>\n",
       "      <td>40.6711</td>\n",
       "      <td>21.0853</td>\n",
       "      <td>730</td>\n",
       "      <td>3.81636</td>\n",
       "      <td>-13.7736</td>\n",
       "      <td>-749.8</td>\n",
       "      <td>-2.651730e-08</td>\n",
       "      <td>-4.772500e-08</td>\n",
       "      <td>-0.000004</td>\n",
       "    </tr>\n",
       "    <tr>\n",
       "      <th>3</th>\n",
       "      <td>-670.623</td>\n",
       "      <td>-634.306</td>\n",
       "      <td>-26927</td>\n",
       "      <td>40.6711</td>\n",
       "      <td>21.0853</td>\n",
       "      <td>730</td>\n",
       "      <td>3.81636</td>\n",
       "      <td>-13.7736</td>\n",
       "      <td>-749.8</td>\n",
       "      <td>-6.028990e-08</td>\n",
       "      <td>-6.831640e-09</td>\n",
       "      <td>-0.000002</td>\n",
       "    </tr>\n",
       "    <tr>\n",
       "      <th>4</th>\n",
       "      <td>-670.623</td>\n",
       "      <td>-634.306</td>\n",
       "      <td>-26927</td>\n",
       "      <td>40.6711</td>\n",
       "      <td>21.0853</td>\n",
       "      <td>730</td>\n",
       "      <td>3.81636</td>\n",
       "      <td>-13.7736</td>\n",
       "      <td>-749.8</td>\n",
       "      <td>-3.801300e-08</td>\n",
       "      <td>-2.280600e-08</td>\n",
       "      <td>-0.000003</td>\n",
       "    </tr>\n",
       "    <tr>\n",
       "      <th>...</th>\n",
       "      <td>...</td>\n",
       "      <td>...</td>\n",
       "      <td>...</td>\n",
       "      <td>...</td>\n",
       "      <td>...</td>\n",
       "      <td>...</td>\n",
       "      <td>...</td>\n",
       "      <td>...</td>\n",
       "      <td>...</td>\n",
       "      <td>...</td>\n",
       "      <td>...</td>\n",
       "      <td>...</td>\n",
       "    </tr>\n",
       "    <tr>\n",
       "      <th>5148</th>\n",
       "      <td>-670.623</td>\n",
       "      <td>-634.306</td>\n",
       "      <td>-26927</td>\n",
       "      <td>40.6711</td>\n",
       "      <td>21.0853</td>\n",
       "      <td>730</td>\n",
       "      <td>3.81636</td>\n",
       "      <td>-13.7736</td>\n",
       "      <td>-749.8</td>\n",
       "      <td>-8.854630e-08</td>\n",
       "      <td>-1.792650e-07</td>\n",
       "      <td>-0.000004</td>\n",
       "    </tr>\n",
       "    <tr>\n",
       "      <th>5149</th>\n",
       "      <td>-670.623</td>\n",
       "      <td>-634.306</td>\n",
       "      <td>-26927</td>\n",
       "      <td>40.6711</td>\n",
       "      <td>21.0853</td>\n",
       "      <td>730</td>\n",
       "      <td>3.81636</td>\n",
       "      <td>-13.7736</td>\n",
       "      <td>-749.8</td>\n",
       "      <td>-1.014540e-07</td>\n",
       "      <td>-1.546300e-07</td>\n",
       "      <td>-0.000004</td>\n",
       "    </tr>\n",
       "    <tr>\n",
       "      <th>5150</th>\n",
       "      <td>-670.623</td>\n",
       "      <td>-634.306</td>\n",
       "      <td>-26927</td>\n",
       "      <td>40.6711</td>\n",
       "      <td>21.0853</td>\n",
       "      <td>730</td>\n",
       "      <td>3.81636</td>\n",
       "      <td>-13.7736</td>\n",
       "      <td>-749.8</td>\n",
       "      <td>-7.875930e-08</td>\n",
       "      <td>-8.697820e-08</td>\n",
       "      <td>-0.000002</td>\n",
       "    </tr>\n",
       "    <tr>\n",
       "      <th>5151</th>\n",
       "      <td>-670.623</td>\n",
       "      <td>-634.306</td>\n",
       "      <td>-26927</td>\n",
       "      <td>40.6711</td>\n",
       "      <td>21.0853</td>\n",
       "      <td>730</td>\n",
       "      <td>3.81636</td>\n",
       "      <td>-13.7736</td>\n",
       "      <td>-749.8</td>\n",
       "      <td>-6.587760e-08</td>\n",
       "      <td>-1.166670e-07</td>\n",
       "      <td>-0.000003</td>\n",
       "    </tr>\n",
       "    <tr>\n",
       "      <th>5152</th>\n",
       "      <td>-670.623</td>\n",
       "      <td>-634.306</td>\n",
       "      <td>-26927</td>\n",
       "      <td>40.6711</td>\n",
       "      <td>21.0853</td>\n",
       "      <td>730</td>\n",
       "      <td>3.81636</td>\n",
       "      <td>-13.7736</td>\n",
       "      <td>-749.8</td>\n",
       "      <td>-1.140000e-07</td>\n",
       "      <td>-1.871350e-08</td>\n",
       "      <td>-0.000003</td>\n",
       "    </tr>\n",
       "  </tbody>\n",
       "</table>\n",
       "<p>5153 rows × 12 columns</p>\n",
       "</div>"
      ],
      "text/plain": [
       "      primMomX  primMomY  primMomZ  primPosX  primPosY  primPosZ  \\\n",
       "0     -670.623  -634.306    -26927   40.6711   21.0853       730   \n",
       "1     -670.623  -634.306    -26927   40.6711   21.0853       730   \n",
       "2     -670.623  -634.306    -26927   40.6711   21.0853       730   \n",
       "3     -670.623  -634.306    -26927   40.6711   21.0853       730   \n",
       "4     -670.623  -634.306    -26927   40.6711   21.0853       730   \n",
       "...        ...       ...       ...       ...       ...       ...   \n",
       "5148  -670.623  -634.306    -26927   40.6711   21.0853       730   \n",
       "5149  -670.623  -634.306    -26927   40.6711   21.0853       730   \n",
       "5150  -670.623  -634.306    -26927   40.6711   21.0853       730   \n",
       "5151  -670.623  -634.306    -26927   40.6711   21.0853       730   \n",
       "5152  -670.623  -634.306    -26927   40.6711   21.0853       730   \n",
       "\n",
       "      trk_mir_impact_X  trk_mir_impact_Y  trk_mir_impact_Z          MomX  \\\n",
       "0              3.81636          -13.7736            -749.8 -6.754690e-08   \n",
       "1              3.81636          -13.7736            -749.8 -1.077270e-07   \n",
       "2              3.81636          -13.7736            -749.8 -2.651730e-08   \n",
       "3              3.81636          -13.7736            -749.8 -6.028990e-08   \n",
       "4              3.81636          -13.7736            -749.8 -3.801300e-08   \n",
       "...                ...               ...               ...           ...   \n",
       "5148           3.81636          -13.7736            -749.8 -8.854630e-08   \n",
       "5149           3.81636          -13.7736            -749.8 -1.014540e-07   \n",
       "5150           3.81636          -13.7736            -749.8 -7.875930e-08   \n",
       "5151           3.81636          -13.7736            -749.8 -6.587760e-08   \n",
       "5152           3.81636          -13.7736            -749.8 -1.140000e-07   \n",
       "\n",
       "              MomY      MomZ  \n",
       "0    -1.012940e-08 -0.000003  \n",
       "1    -7.250210e-08 -0.000002  \n",
       "2    -4.772500e-08 -0.000004  \n",
       "3    -6.831640e-09 -0.000002  \n",
       "4    -2.280600e-08 -0.000003  \n",
       "...            ...       ...  \n",
       "5148 -1.792650e-07 -0.000004  \n",
       "5149 -1.546300e-07 -0.000004  \n",
       "5150 -8.697820e-08 -0.000002  \n",
       "5151 -1.166670e-07 -0.000003  \n",
       "5152 -1.871350e-08 -0.000003  \n",
       "\n",
       "[5153 rows x 12 columns]"
      ]
     },
     "execution_count": 9,
     "metadata": {},
     "output_type": "execute_result"
    }
   ],
   "source": [
    "df"
   ]
  },
  {
   "cell_type": "code",
   "execution_count": 10,
   "id": "21432367-01e6-4755-aa0c-12d2bff83831",
   "metadata": {},
   "outputs": [
    {
     "data": {
      "text/plain": [
       "<AxesSubplot:>"
      ]
     },
     "execution_count": 10,
     "metadata": {},
     "output_type": "execute_result"
    },
    {
     "data": {
      "image/png": "[encoded data removed]",
      "text/plain": [
       "<Figure size 640x480 with 1 Axes>"
      ]
     },
     "metadata": {},
     "output_type": "display_data"
    }
   ],
   "source": [
    "df['MomX'].hist(bins=100)\n",
    "df['MomY'].hist(bins=100)"
   ]
  },
  {
   "cell_type": "code",
   "execution_count": 11,
   "id": "d4673943-3a41-4901-a478-3951f9700963",
   "metadata": {},
   "outputs": [
    {
     "data": {
      "text/plain": [
       "1.96338122620631"
      ]
     },
     "execution_count": 11,
     "metadata": {},
     "output_type": "execute_result"
    }
   ],
   "source": [
    "np.arctan(np.sqrt(df['primMomX'][0]*df['primMomX'][0] + df['primMomY'][0]*df['primMomY'][0])/np.sqrt(df['primMomZ'][0]*df['primMomZ'][0]))*180.0/np.pi"
   ]
  },
  {
   "cell_type": "code",
   "execution_count": 12,
   "id": "7e2e1d53-4db4-43a0-90fb-a5874132a4fd",
   "metadata": {},
   "outputs": [],
   "source": [
    "#df['primMomX'][0]"
   ]
  },
  {
   "cell_type": "code",
   "execution_count": 13,
   "id": "ff54ae38-25c6-4733-9fff-762f41042533",
   "metadata": {},
   "outputs": [
    {
     "data": {
      "text/plain": [
       "725915408.309765"
      ]
     },
     "execution_count": 13,
     "metadata": {},
     "output_type": "execute_result"
    }
   ],
   "source": [
    "df['primMomX'][0]*df['primMomX'][0] + df['primMomY'][0]*df['primMomY'][0] + df['primMomZ'][0]*df['primMomZ'][0]"
   ]
  },
  {
   "cell_type": "code",
   "execution_count": null,
   "id": "dcabb2b7-69b0-46ab-a2c9-342c841e92cd",
   "metadata": {},
   "outputs": [],
   "source": []
  }
 ],
 "metadata": {
  "kernelspec": {
   "display_name": "Python 3 (ipykernel)",
   "language": "python",
   "name": "python3"
  },
  "language_info": {
   "codemirror_mode": {
    "name": "ipython",
    "version": 3
   },
   "file_extension": ".py",
   "mimetype": "text/x-python",
   "name": "python",
   "nbconvert_exporter": "python",
   "pygments_lexer": "ipython3",
   "version": "3.10.12"
  }
 },
 "nbformat": 4,
 "nbformat_minor": 5
}
